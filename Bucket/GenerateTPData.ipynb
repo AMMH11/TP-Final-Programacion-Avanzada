{
 "cells": [
  {
   "cell_type": "code",
   "execution_count": 69,
   "id": "783fc00e",
   "metadata": {
    "id": "783fc00e"
   },
   "outputs": [],
   "source": [
    "import pandas as pd\n",
    "import random\n",
    "import string"
   ]
  },
  {
   "cell_type": "markdown",
   "id": "fae29868",
   "metadata": {
    "id": "fae29868"
   },
   "source": [
    "Genero 20 advertiser_id activos y 5 inactivos"
   ]
  },
  {
   "cell_type": "code",
   "execution_count": 70,
   "id": "1e321326",
   "metadata": {
    "id": "1e321326"
   },
   "outputs": [],
   "source": [
    "random.seed(4)\n",
    "active_advertisers = [''.join(random.choices(string.ascii_uppercase + string.digits, k = 20)) for _ in range(20)]\n",
    "inactive_advertisers = [''.join(random.choices(string.ascii_uppercase + string.digits, k = 20)) for _ in range(5)]\n",
    "all_advertisers = active_advertisers+inactive_advertisers"
   ]
  },
  {
   "cell_type": "code",
   "execution_count": 71,
   "id": "8d4020ed",
   "metadata": {
    "colab": {
     "base_uri": "https://localhost:8080/"
    },
    "executionInfo": {
     "elapsed": 15,
     "status": "ok",
     "timestamp": 1681427182661,
     "user": {
      "displayName": "Federico Pousa",
      "userId": "11923140000981592727"
     },
     "user_tz": 180
    },
    "id": "8d4020ed",
    "outputId": "7b900220-f10d-4ddd-8e0c-2ef024c79360"
   },
   "outputs": [
    {
     "data": {
      "text/plain": [
       "['IDOFCO721HTJGDH7332G',\n",
       " 'LW045DVYSGRD75TK6U54',\n",
       " 'SOVPFK3BBWKTQM9HOHWJ',\n",
       " 'M0LU6DCI1WILGQBZ6808',\n",
       " 'AK81O7W3KGPEN8LABG2N',\n",
       " 'KD9PHCBGYFBRI9ET1O9R',\n",
       " 'IOBPI63RBJIHI5FB7U9O',\n",
       " '6X20RDH567MX2X3TXYJ7',\n",
       " '8C88YB6E8YCGWU07HA7A',\n",
       " '5E325T5HYL61QSABVR5V',\n",
       " 'EN1SA43DTN2LIR8DEW5S',\n",
       " 'P41C5HK4P2G5GFRMT6ZA',\n",
       " 'LTRZRCI4M19WYVL6Q6L5',\n",
       " '2WPF1NXECF3G6NUMWDO7',\n",
       " 'GXLKAA83238FVRU718EX',\n",
       " 'Y0W3K7OV6ZLILW96OO3K',\n",
       " 'OAGTYWN8WFC997VLDJH7',\n",
       " '62FIK8F2YT8JSFDBLEC9',\n",
       " 'K6Z0X85ZUY0TSF4RCG5J',\n",
       " 'OY5LNPB5A8FF43ITRZG3']"
      ]
     },
     "execution_count": 71,
     "metadata": {},
     "output_type": "execute_result"
    }
   ],
   "source": [
    "active_advertisers"
   ]
  },
  {
   "cell_type": "markdown",
   "id": "J37jNL95FiYn",
   "metadata": {
    "id": "J37jNL95FiYn"
   },
   "source": []
  },
  {
   "cell_type": "code",
   "execution_count": 72,
   "id": "fa8aa17f",
   "metadata": {
    "id": "fa8aa17f"
   },
   "outputs": [],
   "source": [
    "pd.DataFrame(active_advertisers, columns=['advertiser_id']).to_csv('advertiser_ids', index=False)"
   ]
  },
  {
   "cell_type": "markdown",
   "id": "0901d8ee",
   "metadata": {
    "id": "0901d8ee"
   },
   "source": [
    "Genero un catalogo de 100 productos para cada uno de los advertisables"
   ]
  },
  {
   "cell_type": "code",
   "execution_count": 73,
   "id": "f14e127e",
   "metadata": {
    "id": "f14e127e"
   },
   "outputs": [],
   "source": [
    "advertisers_catalogs = {}\n",
    "for advertiser in all_advertisers:\n",
    "    advertisers_catalogs[advertiser] = [''.join(random.choices(string.ascii_lowercase + string.digits, k = 6)) for _ in range(100)]"
   ]
  },
  {
   "cell_type": "code",
   "execution_count": 74,
   "id": "29536b71",
   "metadata": {
    "id": "29536b71"
   },
   "outputs": [],
   "source": [
    "possible_dates = [f'2025-05-{day:02d}' for day in range(1,31)] + [f'2025-06-{day:02d}' for day in range(1,31)]"
   ]
  },
  {
   "cell_type": "code",
   "execution_count": 75,
   "id": "dxChIAYTGAuW",
   "metadata": {
    "colab": {
     "base_uri": "https://localhost:8080/"
    },
    "executionInfo": {
     "elapsed": 5,
     "status": "ok",
     "timestamp": 1714431731852,
     "user": {
      "displayName": "Agustin Mosteiro",
      "userId": "12832368380375469628"
     },
     "user_tz": 180
    },
    "id": "dxChIAYTGAuW",
    "outputId": "666a1ae2-dfd0-4503-926c-98c37f20cc5d"
   },
   "outputs": [
    {
     "data": {
      "text/plain": [
       "['2025-05-01',\n",
       " '2025-05-02',\n",
       " '2025-05-03',\n",
       " '2025-05-04',\n",
       " '2025-05-05',\n",
       " '2025-05-06',\n",
       " '2025-05-07',\n",
       " '2025-05-08',\n",
       " '2025-05-09',\n",
       " '2025-05-10',\n",
       " '2025-05-11',\n",
       " '2025-05-12',\n",
       " '2025-05-13',\n",
       " '2025-05-14',\n",
       " '2025-05-15',\n",
       " '2025-05-16',\n",
       " '2025-05-17',\n",
       " '2025-05-18',\n",
       " '2025-05-19',\n",
       " '2025-05-20',\n",
       " '2025-05-21',\n",
       " '2025-05-22',\n",
       " '2025-05-23',\n",
       " '2025-05-24',\n",
       " '2025-05-25',\n",
       " '2025-05-26',\n",
       " '2025-05-27',\n",
       " '2025-05-28',\n",
       " '2025-05-29',\n",
       " '2025-05-30',\n",
       " '2025-06-01',\n",
       " '2025-06-02',\n",
       " '2025-06-03',\n",
       " '2025-06-04',\n",
       " '2025-06-05',\n",
       " '2025-06-06',\n",
       " '2025-06-07',\n",
       " '2025-06-08',\n",
       " '2025-06-09',\n",
       " '2025-06-10',\n",
       " '2025-06-11',\n",
       " '2025-06-12',\n",
       " '2025-06-13',\n",
       " '2025-06-14',\n",
       " '2025-06-15',\n",
       " '2025-06-16',\n",
       " '2025-06-17',\n",
       " '2025-06-18',\n",
       " '2025-06-19',\n",
       " '2025-06-20',\n",
       " '2025-06-21',\n",
       " '2025-06-22',\n",
       " '2025-06-23',\n",
       " '2025-06-24',\n",
       " '2025-06-25',\n",
       " '2025-06-26',\n",
       " '2025-06-27',\n",
       " '2025-06-28',\n",
       " '2025-06-29',\n",
       " '2025-06-30']"
      ]
     },
     "execution_count": 75,
     "metadata": {},
     "output_type": "execute_result"
    }
   ],
   "source": [
    "possible_dates"
   ]
  },
  {
   "cell_type": "markdown",
   "id": "3a70f46f",
   "metadata": {
    "id": "3a70f46f"
   },
   "source": [
    "Genero lineas de vistas de producto"
   ]
  },
  {
   "cell_type": "code",
   "execution_count": 76,
   "id": "9d9881d6",
   "metadata": {
    "id": "9d9881d6"
   },
   "outputs": [],
   "source": [
    "product_views = [[advertiser := random.choice(all_advertisers), random.choice(advertisers_catalogs[advertiser]), random.choice(possible_dates)] for _ in range(100_000)]"
   ]
  },
  {
   "cell_type": "code",
   "execution_count": 77,
   "id": "a9ad9fb2",
   "metadata": {
    "id": "a9ad9fb2"
   },
   "outputs": [],
   "source": [
    "df_product_views = pd.DataFrame(product_views, columns=['advertiser_id', 'product_id', 'date'])"
   ]
  },
  {
   "cell_type": "code",
   "execution_count": 78,
   "id": "6e325c08",
   "metadata": {
    "id": "6e325c08"
   },
   "outputs": [],
   "source": [
    "df_product_views = df_product_views.sort_values('date').reset_index(drop=True)"
   ]
  },
  {
   "cell_type": "code",
   "execution_count": 79,
   "id": "6b529e6b",
   "metadata": {
    "colab": {
     "base_uri": "https://localhost:8080/",
     "height": 677
    },
    "executionInfo": {
     "elapsed": 21,
     "status": "ok",
     "timestamp": 1681427183167,
     "user": {
      "displayName": "Federico Pousa",
      "userId": "11923140000981592727"
     },
     "user_tz": 180
    },
    "id": "6b529e6b",
    "outputId": "6b1a783d-452f-4f60-d9a7-a1463d39b4ec"
   },
   "outputs": [
    {
     "data": {
      "text/html": [
       "<div>\n",
       "<style scoped>\n",
       "    .dataframe tbody tr th:only-of-type {\n",
       "        vertical-align: middle;\n",
       "    }\n",
       "\n",
       "    .dataframe tbody tr th {\n",
       "        vertical-align: top;\n",
       "    }\n",
       "\n",
       "    .dataframe thead th {\n",
       "        text-align: right;\n",
       "    }\n",
       "</style>\n",
       "<table border=\"1\" class=\"dataframe\">\n",
       "  <thead>\n",
       "    <tr style=\"text-align: right;\">\n",
       "      <th></th>\n",
       "      <th>advertiser_id</th>\n",
       "      <th>product_id</th>\n",
       "      <th>date</th>\n",
       "    </tr>\n",
       "  </thead>\n",
       "  <tbody>\n",
       "    <tr>\n",
       "      <th>0</th>\n",
       "      <td>OAGTYWN8WFC997VLDJH7</td>\n",
       "      <td>6dq1ba</td>\n",
       "      <td>2025-05-01</td>\n",
       "    </tr>\n",
       "    <tr>\n",
       "      <th>1</th>\n",
       "      <td>6X20RDH567MX2X3TXYJ7</td>\n",
       "      <td>jvvztm</td>\n",
       "      <td>2025-05-01</td>\n",
       "    </tr>\n",
       "    <tr>\n",
       "      <th>2</th>\n",
       "      <td>AK81O7W3KGPEN8LABG2N</td>\n",
       "      <td>1q3y3v</td>\n",
       "      <td>2025-05-01</td>\n",
       "    </tr>\n",
       "    <tr>\n",
       "      <th>3</th>\n",
       "      <td>LW045DVYSGRD75TK6U54</td>\n",
       "      <td>j1jk2u</td>\n",
       "      <td>2025-05-01</td>\n",
       "    </tr>\n",
       "    <tr>\n",
       "      <th>4</th>\n",
       "      <td>EN1SA43DTN2LIR8DEW5S</td>\n",
       "      <td>oy7idi</td>\n",
       "      <td>2025-05-01</td>\n",
       "    </tr>\n",
       "    <tr>\n",
       "      <th>5</th>\n",
       "      <td>M0LU6DCI1WILGQBZ6808</td>\n",
       "      <td>4rzvrf</td>\n",
       "      <td>2025-05-01</td>\n",
       "    </tr>\n",
       "    <tr>\n",
       "      <th>6</th>\n",
       "      <td>OAGTYWN8WFC997VLDJH7</td>\n",
       "      <td>t8nlye</td>\n",
       "      <td>2025-05-01</td>\n",
       "    </tr>\n",
       "    <tr>\n",
       "      <th>7</th>\n",
       "      <td>KD9PHCBGYFBRI9ET1O9R</td>\n",
       "      <td>65hgvy</td>\n",
       "      <td>2025-05-01</td>\n",
       "    </tr>\n",
       "    <tr>\n",
       "      <th>8</th>\n",
       "      <td>IOBPI63RBJIHI5FB7U9O</td>\n",
       "      <td>jvezns</td>\n",
       "      <td>2025-05-01</td>\n",
       "    </tr>\n",
       "    <tr>\n",
       "      <th>9</th>\n",
       "      <td>AK81O7W3KGPEN8LABG2N</td>\n",
       "      <td>ly2si9</td>\n",
       "      <td>2025-05-01</td>\n",
       "    </tr>\n",
       "    <tr>\n",
       "      <th>10</th>\n",
       "      <td>6X20RDH567MX2X3TXYJ7</td>\n",
       "      <td>js0ydl</td>\n",
       "      <td>2025-05-01</td>\n",
       "    </tr>\n",
       "    <tr>\n",
       "      <th>11</th>\n",
       "      <td>P41C5HK4P2G5GFRMT6ZA</td>\n",
       "      <td>mtcwzo</td>\n",
       "      <td>2025-05-01</td>\n",
       "    </tr>\n",
       "    <tr>\n",
       "      <th>12</th>\n",
       "      <td>5E325T5HYL61QSABVR5V</td>\n",
       "      <td>xjthlz</td>\n",
       "      <td>2025-05-01</td>\n",
       "    </tr>\n",
       "    <tr>\n",
       "      <th>13</th>\n",
       "      <td>9Z77N44VDW6KX6VBWJ4X</td>\n",
       "      <td>jbu56f</td>\n",
       "      <td>2025-05-01</td>\n",
       "    </tr>\n",
       "    <tr>\n",
       "      <th>14</th>\n",
       "      <td>IDOFCO721HTJGDH7332G</td>\n",
       "      <td>nhirnc</td>\n",
       "      <td>2025-05-01</td>\n",
       "    </tr>\n",
       "    <tr>\n",
       "      <th>15</th>\n",
       "      <td>8C88YB6E8YCGWU07HA7A</td>\n",
       "      <td>1f27se</td>\n",
       "      <td>2025-05-01</td>\n",
       "    </tr>\n",
       "    <tr>\n",
       "      <th>16</th>\n",
       "      <td>62FIK8F2YT8JSFDBLEC9</td>\n",
       "      <td>stxioe</td>\n",
       "      <td>2025-05-01</td>\n",
       "    </tr>\n",
       "    <tr>\n",
       "      <th>17</th>\n",
       "      <td>OY5LNPB5A8FF43ITRZG3</td>\n",
       "      <td>xlpfgt</td>\n",
       "      <td>2025-05-01</td>\n",
       "    </tr>\n",
       "    <tr>\n",
       "      <th>18</th>\n",
       "      <td>6X20RDH567MX2X3TXYJ7</td>\n",
       "      <td>r398a0</td>\n",
       "      <td>2025-05-01</td>\n",
       "    </tr>\n",
       "    <tr>\n",
       "      <th>19</th>\n",
       "      <td>8C88YB6E8YCGWU07HA7A</td>\n",
       "      <td>5nus5m</td>\n",
       "      <td>2025-05-01</td>\n",
       "    </tr>\n",
       "  </tbody>\n",
       "</table>\n",
       "</div>"
      ],
      "text/plain": [
       "           advertiser_id product_id        date\n",
       "0   OAGTYWN8WFC997VLDJH7     6dq1ba  2025-05-01\n",
       "1   6X20RDH567MX2X3TXYJ7     jvvztm  2025-05-01\n",
       "2   AK81O7W3KGPEN8LABG2N     1q3y3v  2025-05-01\n",
       "3   LW045DVYSGRD75TK6U54     j1jk2u  2025-05-01\n",
       "4   EN1SA43DTN2LIR8DEW5S     oy7idi  2025-05-01\n",
       "5   M0LU6DCI1WILGQBZ6808     4rzvrf  2025-05-01\n",
       "6   OAGTYWN8WFC997VLDJH7     t8nlye  2025-05-01\n",
       "7   KD9PHCBGYFBRI9ET1O9R     65hgvy  2025-05-01\n",
       "8   IOBPI63RBJIHI5FB7U9O     jvezns  2025-05-01\n",
       "9   AK81O7W3KGPEN8LABG2N     ly2si9  2025-05-01\n",
       "10  6X20RDH567MX2X3TXYJ7     js0ydl  2025-05-01\n",
       "11  P41C5HK4P2G5GFRMT6ZA     mtcwzo  2025-05-01\n",
       "12  5E325T5HYL61QSABVR5V     xjthlz  2025-05-01\n",
       "13  9Z77N44VDW6KX6VBWJ4X     jbu56f  2025-05-01\n",
       "14  IDOFCO721HTJGDH7332G     nhirnc  2025-05-01\n",
       "15  8C88YB6E8YCGWU07HA7A     1f27se  2025-05-01\n",
       "16  62FIK8F2YT8JSFDBLEC9     stxioe  2025-05-01\n",
       "17  OY5LNPB5A8FF43ITRZG3     xlpfgt  2025-05-01\n",
       "18  6X20RDH567MX2X3TXYJ7     r398a0  2025-05-01\n",
       "19  8C88YB6E8YCGWU07HA7A     5nus5m  2025-05-01"
      ]
     },
     "execution_count": 79,
     "metadata": {},
     "output_type": "execute_result"
    }
   ],
   "source": [
    "df_product_views.head(20)"
   ]
  },
  {
   "cell_type": "code",
   "execution_count": 80,
   "id": "82920f82",
   "metadata": {
    "id": "82920f82"
   },
   "outputs": [],
   "source": [
    "df_product_views.to_csv('product_views', index=False)"
   ]
  },
  {
   "cell_type": "markdown",
   "id": "59a5441f",
   "metadata": {
    "id": "59a5441f"
   },
   "source": [
    "Genero lineas de vistas de ads"
   ]
  },
  {
   "cell_type": "code",
   "execution_count": 81,
   "id": "000c1cec",
   "metadata": {
    "id": "000c1cec"
   },
   "outputs": [],
   "source": [
    "ads_views = [[advertiser := random.choice(all_advertisers), random.choice(advertisers_catalogs[advertiser]), random.choices(['impression', 'click'], weights=[99, 1])[0], random.choice(possible_dates)] for _ in range(100_000)]"
   ]
  },
  {
   "cell_type": "code",
   "execution_count": 82,
   "id": "4808515d",
   "metadata": {
    "id": "4808515d"
   },
   "outputs": [],
   "source": [
    "df_ads_views = pd.DataFrame(ads_views, columns=['advertiser_id', 'product_id', 'type', 'date'])"
   ]
  },
  {
   "cell_type": "code",
   "execution_count": 83,
   "id": "1243bec6",
   "metadata": {
    "id": "1243bec6"
   },
   "outputs": [],
   "source": [
    "df_ads_views = df_ads_views.sort_values('date').reset_index(drop=True)"
   ]
  },
  {
   "cell_type": "code",
   "execution_count": 84,
   "id": "317bde80",
   "metadata": {
    "colab": {
     "base_uri": "https://localhost:8080/",
     "height": 677
    },
    "executionInfo": {
     "elapsed": 17,
     "status": "ok",
     "timestamp": 1681427184633,
     "user": {
      "displayName": "Federico Pousa",
      "userId": "11923140000981592727"
     },
     "user_tz": 180
    },
    "id": "317bde80",
    "outputId": "127497cd-b18c-43b7-9476-60a26b4058d2"
   },
   "outputs": [
    {
     "data": {
      "text/html": [
       "<div>\n",
       "<style scoped>\n",
       "    .dataframe tbody tr th:only-of-type {\n",
       "        vertical-align: middle;\n",
       "    }\n",
       "\n",
       "    .dataframe tbody tr th {\n",
       "        vertical-align: top;\n",
       "    }\n",
       "\n",
       "    .dataframe thead th {\n",
       "        text-align: right;\n",
       "    }\n",
       "</style>\n",
       "<table border=\"1\" class=\"dataframe\">\n",
       "  <thead>\n",
       "    <tr style=\"text-align: right;\">\n",
       "      <th></th>\n",
       "      <th>advertiser_id</th>\n",
       "      <th>product_id</th>\n",
       "      <th>type</th>\n",
       "      <th>date</th>\n",
       "    </tr>\n",
       "  </thead>\n",
       "  <tbody>\n",
       "    <tr>\n",
       "      <th>0</th>\n",
       "      <td>AK81O7W3KGPEN8LABG2N</td>\n",
       "      <td>m5u0xo</td>\n",
       "      <td>impression</td>\n",
       "      <td>2025-05-01</td>\n",
       "    </tr>\n",
       "    <tr>\n",
       "      <th>1</th>\n",
       "      <td>9Z77N44VDW6KX6VBWJ4X</td>\n",
       "      <td>esyjbq</td>\n",
       "      <td>impression</td>\n",
       "      <td>2025-05-01</td>\n",
       "    </tr>\n",
       "    <tr>\n",
       "      <th>2</th>\n",
       "      <td>SOVPFK3BBWKTQM9HOHWJ</td>\n",
       "      <td>4ej8w6</td>\n",
       "      <td>impression</td>\n",
       "      <td>2025-05-01</td>\n",
       "    </tr>\n",
       "    <tr>\n",
       "      <th>3</th>\n",
       "      <td>2WPF1NXECF3G6NUMWDO7</td>\n",
       "      <td>np11o4</td>\n",
       "      <td>click</td>\n",
       "      <td>2025-05-01</td>\n",
       "    </tr>\n",
       "    <tr>\n",
       "      <th>4</th>\n",
       "      <td>2WPF1NXECF3G6NUMWDO7</td>\n",
       "      <td>4l9sze</td>\n",
       "      <td>impression</td>\n",
       "      <td>2025-05-01</td>\n",
       "    </tr>\n",
       "    <tr>\n",
       "      <th>5</th>\n",
       "      <td>GXLKAA83238FVRU718EX</td>\n",
       "      <td>s6boed</td>\n",
       "      <td>impression</td>\n",
       "      <td>2025-05-01</td>\n",
       "    </tr>\n",
       "    <tr>\n",
       "      <th>6</th>\n",
       "      <td>6X20RDH567MX2X3TXYJ7</td>\n",
       "      <td>ogmtu6</td>\n",
       "      <td>impression</td>\n",
       "      <td>2025-05-01</td>\n",
       "    </tr>\n",
       "    <tr>\n",
       "      <th>7</th>\n",
       "      <td>OY5LNPB5A8FF43ITRZG3</td>\n",
       "      <td>kv2x1v</td>\n",
       "      <td>impression</td>\n",
       "      <td>2025-05-01</td>\n",
       "    </tr>\n",
       "    <tr>\n",
       "      <th>8</th>\n",
       "      <td>M0LU6DCI1WILGQBZ6808</td>\n",
       "      <td>snkql0</td>\n",
       "      <td>impression</td>\n",
       "      <td>2025-05-01</td>\n",
       "    </tr>\n",
       "    <tr>\n",
       "      <th>9</th>\n",
       "      <td>GXLKAA83238FVRU718EX</td>\n",
       "      <td>pw1b1c</td>\n",
       "      <td>impression</td>\n",
       "      <td>2025-05-01</td>\n",
       "    </tr>\n",
       "    <tr>\n",
       "      <th>10</th>\n",
       "      <td>IDOFCO721HTJGDH7332G</td>\n",
       "      <td>wgmyt8</td>\n",
       "      <td>impression</td>\n",
       "      <td>2025-05-01</td>\n",
       "    </tr>\n",
       "    <tr>\n",
       "      <th>11</th>\n",
       "      <td>Y0W3K7OV6ZLILW96OO3K</td>\n",
       "      <td>oh4fwd</td>\n",
       "      <td>impression</td>\n",
       "      <td>2025-05-01</td>\n",
       "    </tr>\n",
       "    <tr>\n",
       "      <th>12</th>\n",
       "      <td>OY5LNPB5A8FF43ITRZG3</td>\n",
       "      <td>oo3e6i</td>\n",
       "      <td>impression</td>\n",
       "      <td>2025-05-01</td>\n",
       "    </tr>\n",
       "    <tr>\n",
       "      <th>13</th>\n",
       "      <td>HC26ZE93SA4WWA0BRFM6</td>\n",
       "      <td>4zqqvb</td>\n",
       "      <td>impression</td>\n",
       "      <td>2025-05-01</td>\n",
       "    </tr>\n",
       "    <tr>\n",
       "      <th>14</th>\n",
       "      <td>K6Z0X85ZUY0TSF4RCG5J</td>\n",
       "      <td>x5ta1v</td>\n",
       "      <td>impression</td>\n",
       "      <td>2025-05-01</td>\n",
       "    </tr>\n",
       "    <tr>\n",
       "      <th>15</th>\n",
       "      <td>Y0W3K7OV6ZLILW96OO3K</td>\n",
       "      <td>t6f190</td>\n",
       "      <td>impression</td>\n",
       "      <td>2025-05-01</td>\n",
       "    </tr>\n",
       "    <tr>\n",
       "      <th>16</th>\n",
       "      <td>GXLKAA83238FVRU718EX</td>\n",
       "      <td>i2oj0g</td>\n",
       "      <td>impression</td>\n",
       "      <td>2025-05-01</td>\n",
       "    </tr>\n",
       "    <tr>\n",
       "      <th>17</th>\n",
       "      <td>62FIK8F2YT8JSFDBLEC9</td>\n",
       "      <td>y83czh</td>\n",
       "      <td>impression</td>\n",
       "      <td>2025-05-01</td>\n",
       "    </tr>\n",
       "    <tr>\n",
       "      <th>18</th>\n",
       "      <td>AK81O7W3KGPEN8LABG2N</td>\n",
       "      <td>nj0hdb</td>\n",
       "      <td>impression</td>\n",
       "      <td>2025-05-01</td>\n",
       "    </tr>\n",
       "    <tr>\n",
       "      <th>19</th>\n",
       "      <td>2WPF1NXECF3G6NUMWDO7</td>\n",
       "      <td>eiohv0</td>\n",
       "      <td>impression</td>\n",
       "      <td>2025-05-01</td>\n",
       "    </tr>\n",
       "  </tbody>\n",
       "</table>\n",
       "</div>"
      ],
      "text/plain": [
       "           advertiser_id product_id        type        date\n",
       "0   AK81O7W3KGPEN8LABG2N     m5u0xo  impression  2025-05-01\n",
       "1   9Z77N44VDW6KX6VBWJ4X     esyjbq  impression  2025-05-01\n",
       "2   SOVPFK3BBWKTQM9HOHWJ     4ej8w6  impression  2025-05-01\n",
       "3   2WPF1NXECF3G6NUMWDO7     np11o4       click  2025-05-01\n",
       "4   2WPF1NXECF3G6NUMWDO7     4l9sze  impression  2025-05-01\n",
       "5   GXLKAA83238FVRU718EX     s6boed  impression  2025-05-01\n",
       "6   6X20RDH567MX2X3TXYJ7     ogmtu6  impression  2025-05-01\n",
       "7   OY5LNPB5A8FF43ITRZG3     kv2x1v  impression  2025-05-01\n",
       "8   M0LU6DCI1WILGQBZ6808     snkql0  impression  2025-05-01\n",
       "9   GXLKAA83238FVRU718EX     pw1b1c  impression  2025-05-01\n",
       "10  IDOFCO721HTJGDH7332G     wgmyt8  impression  2025-05-01\n",
       "11  Y0W3K7OV6ZLILW96OO3K     oh4fwd  impression  2025-05-01\n",
       "12  OY5LNPB5A8FF43ITRZG3     oo3e6i  impression  2025-05-01\n",
       "13  HC26ZE93SA4WWA0BRFM6     4zqqvb  impression  2025-05-01\n",
       "14  K6Z0X85ZUY0TSF4RCG5J     x5ta1v  impression  2025-05-01\n",
       "15  Y0W3K7OV6ZLILW96OO3K     t6f190  impression  2025-05-01\n",
       "16  GXLKAA83238FVRU718EX     i2oj0g  impression  2025-05-01\n",
       "17  62FIK8F2YT8JSFDBLEC9     y83czh  impression  2025-05-01\n",
       "18  AK81O7W3KGPEN8LABG2N     nj0hdb  impression  2025-05-01\n",
       "19  2WPF1NXECF3G6NUMWDO7     eiohv0  impression  2025-05-01"
      ]
     },
     "execution_count": 84,
     "metadata": {},
     "output_type": "execute_result"
    }
   ],
   "source": [
    "df_ads_views.head(20)"
   ]
  },
  {
   "cell_type": "code",
   "execution_count": 85,
   "id": "f7a9a5af",
   "metadata": {
    "id": "f7a9a5af"
   },
   "outputs": [],
   "source": [
    "df_ads_views.to_csv('ads_views', index=False)"
   ]
  },
  {
   "cell_type": "code",
   "execution_count": 86,
   "id": "y6JxpWQy2xnh",
   "metadata": {
    "id": "y6JxpWQy2xnh"
   },
   "outputs": [],
   "source": [
    "# Exportar product views\n",
    "df_product_views.to_csv(\"product_views.csv\", index=False)\n",
    "\n",
    "# Exportar ads views\n",
    "df_ads_views.to_csv(\"ads_views.csv\", index=False)\n",
    "\n",
    "# Crear archivo advertisers.csv con estado 'active'\n",
    "advertisers_df = pd.DataFrame({'advertiser_id': active_advertisers})\n",
    "advertisers_df['status'] = 'active'\n",
    "advertisers_df.to_csv(\"advertisers.csv\", index=False)\n"
   ]
  }
 ],
 "metadata": {
  "colab": {
   "provenance": []
  },
  "kernelspec": {
   "display_name": "Python 3 (ipykernel)",
   "language": "python",
   "name": "python3"
  },
  "language_info": {
   "codemirror_mode": {
    "name": "ipython",
    "version": 3
   },
   "file_extension": ".py",
   "mimetype": "text/x-python",
   "name": "python",
   "nbconvert_exporter": "python",
   "pygments_lexer": "ipython3",
   "version": "3.10.12"
  }
 },
 "nbformat": 4,
 "nbformat_minor": 5
}
